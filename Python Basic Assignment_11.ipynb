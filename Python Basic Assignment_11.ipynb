{
 "cells": [
  {
   "cell_type": "markdown",
   "id": "1c52d1dc",
   "metadata": {},
   "source": [
    "Q.[1] : Create an assert statement that throws an AssertionError if the variable spam is a negative\n",
    "integer.\n",
    "\n",
    "Ans:- assert spam >0"
   ]
  },
  {
   "cell_type": "markdown",
   "id": "91672929",
   "metadata": {},
   "source": [
    "Q.[2] : Write an assert statement that triggers an AssertionError if the variables eggs and bacon contain\n",
    "strings that are the same as each other, even if their cases are different (that is, 'hello' and 'hello' are\n",
    "considered the same, and 'goodbye' and 'GOODbye' are also considered the same).\n",
    "\n",
    "Ans:-"
   ]
  },
  {
   "cell_type": "code",
   "execution_count": 3,
   "id": "2f7635a9",
   "metadata": {},
   "outputs": [
    {
     "ename": "AssertionError",
     "evalue": "",
     "output_type": "error",
     "traceback": [
      "\u001b[1;31m---------------------------------------------------------------------------\u001b[0m",
      "\u001b[1;31mAssertionError\u001b[0m                            Traceback (most recent call last)",
      "Input \u001b[1;32mIn [3]\u001b[0m, in \u001b[0;36m<cell line: 4>\u001b[1;34m()\u001b[0m\n\u001b[0;32m      1\u001b[0m eggs\u001b[38;5;241m=\u001b[39m\u001b[38;5;124m'\u001b[39m\u001b[38;5;124mHello\u001b[39m\u001b[38;5;124m'\u001b[39m\n\u001b[0;32m      2\u001b[0m bacon \u001b[38;5;241m=\u001b[39m\u001b[38;5;124m'\u001b[39m\u001b[38;5;124mhello\u001b[39m\u001b[38;5;124m'\u001b[39m\n\u001b[1;32m----> 4\u001b[0m \u001b[38;5;28;01massert\u001b[39;00m eggs\u001b[38;5;241m.\u001b[39mlower() \u001b[38;5;241m!=\u001b[39m bacon\u001b[38;5;241m.\u001b[39mlower() \u001b[38;5;129;01mor\u001b[39;00m eggs\u001b[38;5;241m.\u001b[39mupper() \u001b[38;5;241m!=\u001b[39m bacon\u001b[38;5;241m.\u001b[39mupper()\n\u001b[0;32m      5\u001b[0m \u001b[38;5;28mprint\u001b[39m(\u001b[38;5;124m'\u001b[39m\u001b[38;5;124mThe eggs and bacon variables are not the same!\u001b[39m\u001b[38;5;124m'\u001b[39m)\n",
      "\u001b[1;31mAssertionError\u001b[0m: "
     ]
    }
   ],
   "source": [
    "eggs='Hello'\n",
    "bacon ='hello'\n",
    "\n",
    "assert eggs.lower() != bacon.lower() or eggs.upper() != bacon.upper()\n",
    "print('The eggs and bacon variables are not the same!')"
   ]
  },
  {
   "cell_type": "markdown",
   "id": "e30dee12",
   "metadata": {},
   "source": [
    "Q.[3] : Create an assert statement that throws an AssertionError every time.\n",
    "    \n",
    "Ans:-assert False -> this always triggers an exception"
   ]
  },
  {
   "cell_type": "code",
   "execution_count": 5,
   "id": "660c4fe9",
   "metadata": {},
   "outputs": [
    {
     "ename": "AssertionError",
     "evalue": "",
     "output_type": "error",
     "traceback": [
      "\u001b[1;31m---------------------------------------------------------------------------\u001b[0m",
      "\u001b[1;31mAssertionError\u001b[0m                            Traceback (most recent call last)",
      "Input \u001b[1;32mIn [5]\u001b[0m, in \u001b[0;36m<cell line: 1>\u001b[1;34m()\u001b[0m\n\u001b[1;32m----> 1\u001b[0m \u001b[38;5;28;01massert\u001b[39;00m \u001b[38;5;28;01mFalse\u001b[39;00m\n",
      "\u001b[1;31mAssertionError\u001b[0m: "
     ]
    }
   ],
   "source": [
    "assert False"
   ]
  },
  {
   "cell_type": "markdown",
   "id": "ddfb8cb7",
   "metadata": {},
   "source": [
    "Q.[4] : What are the two lines that must be present in your software in order to call logging.debug()?\n",
    "    \n",
    "Ans:- To be able to call logging.debug(), we must have these two lines at the start of your program: \n",
    "import logging \n",
    "logging.basicConfig(level=logging.DEBUG, format=' %(asctime)s - %(levelname)s - %(message)s')"
   ]
  },
  {
   "cell_type": "code",
   "execution_count": 7,
   "id": "aeaf806c",
   "metadata": {},
   "outputs": [],
   "source": [
    "import logging as lg\n",
    "lg.basicConfig(level=lg.DEBUG, format=' %(asctime)s - %(levelname)s - %(message)s')"
   ]
  },
  {
   "cell_type": "markdown",
   "id": "bd4c498d",
   "metadata": {},
   "source": [
    "Q.[5] : What are the two lines that your program must have in order to have logging.debug() send a\n",
    "logging message to a file named programLog.txt?\n",
    "\n",
    "Ans:-"
   ]
  },
  {
   "cell_type": "code",
   "execution_count": 10,
   "id": "4f424175",
   "metadata": {},
   "outputs": [],
   "source": [
    "import logging as lg\n",
    "lg.basicConfig(filename='programLog.txt', level=lg.DEBUG, format=' %(asctime)s - %(levelname)s - %(message)s')"
   ]
  },
  {
   "cell_type": "markdown",
   "id": "11d7c98e",
   "metadata": {},
   "source": [
    "Q.[6] : What are the five levels of logging?\n",
    "    \n",
    "Ans:- \n",
    "    \n",
    "    Five level of logging are DEBUG, INFO, WARNING, ERROR, and CRITICAL\n",
    "    logging.debug() - variable's state and small details\n",
    "    logging.info() - general events, confirm a program is working\n",
    "    logging.warning() - potiental problem to work on in the future\n",
    "    logging.error() - record an error that caused program to fail to do something\n",
    "    logging.critical() - fatal error that has caused\n"
   ]
  },
  {
   "cell_type": "markdown",
   "id": "8392478e",
   "metadata": {},
   "source": [
    "Q.[7] : What line of code would you add to your software to disable all logging messages?\n",
    "    \n",
    "Ans:-logging.disable(level) -> Disables all logging calls of severity 'level' and below. set level = logging.CRITICAL since\n",
    "CRITICAL being the highest level , every other level loggings will be disabled."
   ]
  },
  {
   "cell_type": "code",
   "execution_count": 12,
   "id": "5ee0f659",
   "metadata": {},
   "outputs": [],
   "source": [
    "import logging as lg\n",
    "lg.disable(lg.CRITICAL)"
   ]
  },
  {
   "cell_type": "markdown",
   "id": "4afcfae1",
   "metadata": {},
   "source": [
    "Q.[8] : Why is using logging messages better than using print() to display the same message?\n",
    "    \n",
    "Ans:- \n",
    "    \n",
    "     You can disable logging messages without removing the logging function calls. \n",
    "     You can selectively disable lower-level logging messages. \n",
    "     You can create logging messages. Logging messages provides a timestamp."
   ]
  },
  {
   "cell_type": "markdown",
   "id": "62cac8f7",
   "metadata": {},
   "source": [
    "Q.[9] : What are the differences between the Step Over, Step In, and Step Out buttons in the debugger?\n",
    "    \n",
    "Ans:- \n",
    "\n",
    "    The Step in button will move the debugger into a function call. \n",
    "    The Over button will quickly execute the function call without stepping into it. \n",
    "    The Out button will quickly execute the rest of the code until it steps out of the function it currently is in."
   ]
  },
  {
   "cell_type": "markdown",
   "id": "c6725ae9",
   "metadata": {},
   "source": [
    "Q.[10] : After you click Continue, when will the debugger stop ?\n",
    "    \n",
    "Ans:-After you click Continue, the debugger will stop when it has reached the end of the program or a line with a breakpoint."
   ]
  },
  {
   "cell_type": "markdown",
   "id": "00da6c73",
   "metadata": {},
   "source": [
    "Q.[11] : What is the concept of a breakpoint?\n",
    "    \n",
    "Ans:-A breakpoint is a setting on a line of code that causes the debugger to pause when the program execution reaches the line."
   ]
  },
  {
   "cell_type": "code",
   "execution_count": null,
   "id": "3c94a461",
   "metadata": {},
   "outputs": [],
   "source": []
  }
 ],
 "metadata": {
  "kernelspec": {
   "display_name": "Python 3 (ipykernel)",
   "language": "python",
   "name": "python3"
  },
  "language_info": {
   "codemirror_mode": {
    "name": "ipython",
    "version": 3
   },
   "file_extension": ".py",
   "mimetype": "text/x-python",
   "name": "python",
   "nbconvert_exporter": "python",
   "pygments_lexer": "ipython3",
   "version": "3.9.12"
  }
 },
 "nbformat": 4,
 "nbformat_minor": 5
}
